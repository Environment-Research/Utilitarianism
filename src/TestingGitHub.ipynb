{
 "cells": [
  {
   "cell_type": "code",
   "execution_count": 41,
   "metadata": {},
   "outputs": [
    {
     "name": "stderr",
     "output_type": "stream",
     "text": [
      "WARNING: replacing module _mimi_implementation_climatedynamics\n",
      "\n",
      "WARNING: deprecated syntax \"inner constructor climatedynamicsParameters(...) around C:\\Users\\kevin\\.julia\\v0.6\\Mimi\\src\\metainfo.jl:98\".\n",
      "Use \"climatedynamicsParameters{#s394}(...) where #s394\" instead.\n",
      "\n",
      "WARNING: deprecated syntax \"inner constructor climatedynamicsVariables(...) around C:\\Users\\kevin\\.julia\\v0.6\\Mimi\\src\\metainfo.jl:119\".\n",
      "Use \"climatedynamicsVariables{#s393}(...) where #s393\" instead.\n",
      "\n",
      "WARNING: deprecated syntax \"inner constructor climatedynamicsImpl(...) around C:\\Users\\kevin\\.julia\\v0.6\\Mimi\\src\\metainfo.jl:178\".\n",
      "Use \"climatedynamicsImpl{#s392}(...) where #s392\" instead.\n",
      "\n",
      "WARNING: deprecated syntax \"inner constructor co2cycleParameters(...) around C:\\Users\\kevin\\.julia\\v0.6\\Mimi\\src\\metainfo.jl:98\".\n",
      "Use \"co2cycleParameters{#s394}(...) where #s394\" instead.\n",
      "\n",
      "WARNING: deprecated syntax \"inner constructor co2cycleVariables(...) around C:\\Users\\kevin\\.julia\\v0.6\\Mimi\\src\\metainfo.jl:119\".\n",
      "Use \"co2cycleVariables{#s393}(...) where #s393\" instead.\n",
      "\n",
      "WARNING: deprecated syntax \"inner constructor co2cycleImpl(...) around C:\\Users\\kevin\\.julia\\v0.6\\Mimi\\src\\metainfo.jl:178\".\n",
      "Use \"co2cycleImpl{#s392}(...) where #s392\" instead.\n",
      "\n",
      "WARNING: deprecated syntax \"inner constructor damagesParameters(...) around C:\\Users\\kevin\\.julia\\v0.6\\Mimi\\src\\metainfo.jl:98\".\n",
      "Use \"damagesParameters{#s394}(...) where #s394\" instead.\n",
      "\n",
      "WARNING: deprecated syntax \"inner constructor damagesVariables(...) around C:\\Users\\kevin\\.julia\\v0.6\\Mimi\\src\\metainfo.jl:119\".\n",
      "Use \"damagesVariables{#s393}(...) where #s393\" instead.\n",
      "\n",
      "WARNING: deprecated syntax \"inner constructor damagesImpl(...) around C:\\Users\\kevin\\.julia\\v0.6\\Mimi\\src\\metainfo.jl:178\".\n",
      "Use \"damagesImpl{#s392}(...) where #s392\" instead.\n",
      "\n",
      "WARNING: deprecated syntax \"inner constructor emissionsParameters(...) around C:\\Users\\kevin\\.julia\\v0.6\\Mimi\\src\\metainfo.jl:98\".\n",
      "Use \"emissionsParameters{#s394}(...) where #s394\" instead.\n",
      "\n",
      "WARNING: deprecated syntax \"inner constructor emissionsVariables(...) around C:\\Users\\kevin\\.julia\\v0.6\\Mimi\\src\\metainfo.jl:119\".\n",
      "Use \"emissionsVariables{#s393}(...) where #s393\" instead.\n",
      "\n",
      "WARNING: deprecated syntax \"inner constructor emissionsImpl(...) around C:\\Users\\kevin\\.julia\\v0.6\\Mimi\\src\\metainfo.jl:178\".\n",
      "Use \"emissionsImpl{#s392}(...) where #s392\" instead.\n",
      "\n",
      "WARNING: deprecated syntax \"inner constructor grosseconomyParameters(...) around C:\\Users\\kevin\\.julia\\v0.6\\Mimi\\src\\metainfo.jl:98\".\n",
      "Use \"grosseconomyParameters{#s394}(...) where #s394\" instead.\n",
      "\n",
      "WARNING: deprecated syntax \"inner constructor grosseconomyVariables(...) around C:\\Users\\kevin\\.julia\\v0.6\\Mimi\\src\\metainfo.jl:119\".\n",
      "Use \"grosseconomyVariables{#s393}(...) where #s393\" instead.\n",
      "\n",
      "WARNING: deprecated syntax \"inner constructor grosseconomyImpl(...) around C:\\Users\\kevin\\.julia\\v0.6\\Mimi\\src\\metainfo.jl:178\".\n",
      "Use \"grosseconomyImpl{#s392}(...) where #s392\" instead.\n",
      "\n",
      "WARNING: deprecated syntax \"inner constructor neteconomyParameters(...) around C:\\Users\\kevin\\.julia\\v0.6\\Mimi\\src\\metainfo.jl:98\".\n",
      "Use \"neteconomyParameters{#s394}(...) where #s394\" instead.\n",
      "\n",
      "WARNING: deprecated syntax \"inner constructor neteconomyVariables(...) around C:\\Users\\kevin\\.julia\\v0.6\\Mimi\\src\\metainfo.jl:119\".\n",
      "Use \"neteconomyVariables{#s393}(...) where #s393\" instead.\n",
      "\n",
      "WARNING: deprecated syntax \"inner constructor neteconomyImpl(...) around C:\\Users\\kevin\\.julia\\v0.6\\Mimi\\src\\metainfo.jl:178\".\n",
      "Use \"neteconomyImpl{#s392}(...) where #s392\" instead.\n",
      "\n",
      "WARNING: deprecated syntax \"inner constructor radiativeforcingParameters(...) around C:\\Users\\kevin\\.julia\\v0.6\\Mimi\\src\\metainfo.jl:98\".\n",
      "Use \"radiativeforcingParameters{#s394}(...) where #s394\" instead.\n",
      "\n",
      "WARNING: deprecated syntax \"inner constructor radiativeforcingVariables(...) around C:\\Users\\kevin\\.julia\\v0.6\\Mimi\\src\\metainfo.jl:119\".\n",
      "Use \"radiativeforcingVariables{#s393}(...) where #s393\" instead.\n",
      "\n",
      "WARNING: deprecated syntax \"inner constructor radiativeforcingImpl(...) around C:\\Users\\kevin\\.julia\\v0.6\\Mimi\\src\\metainfo.jl:178\".\n",
      "Use \"radiativeforcingImpl{#s392}(...) where #s392\" instead.\n",
      "\n",
      "WARNING: deprecated syntax \"inner constructor sealevelriseParameters(...) around C:\\Users\\kevin\\.julia\\v0.6\\Mimi\\src\\metainfo.jl:98\".\n",
      "Use \"sealevelriseParameters{#s394}(...) where #s394\" instead.\n",
      "\n",
      "WARNING: deprecated syntax \"inner constructor sealevelriseVariables(...) around C:\\Users\\kevin\\.julia\\v0.6\\Mimi\\src\\metainfo.jl:119\".\n",
      "Use \"sealevelriseVariables{#s393}(...) where #s393\" instead.\n",
      "\n",
      "WARNING: deprecated syntax \"inner constructor sealevelriseImpl(...) around C:\\Users\\kevin\\.julia\\v0.6\\Mimi\\src\\metainfo.jl:178\".\n",
      "Use \"sealevelriseImpl{#s392}(...) where #s392\" instead.\n",
      "\n",
      "WARNING: deprecated syntax \"inner constructor sealeveldamagesParameters(...) around C:\\Users\\kevin\\.julia\\v0.6\\Mimi\\src\\metainfo.jl:98\".\n",
      "Use \"sealeveldamagesParameters{#s394}(...) where #s394\" instead.\n",
      "\n",
      "WARNING: deprecated syntax \"inner constructor sealeveldamagesVariables(...) around C:\\Users\\kevin\\.julia\\v0.6\\Mimi\\src\\metainfo.jl:119\".\n",
      "Use \"sealeveldamagesVariables{#s393}(...) where #s393\" instead.\n",
      "\n",
      "WARNING: deprecated syntax \"inner constructor sealeveldamagesImpl(...) around C:\\Users\\kevin\\.julia\\v0.6\\Mimi\\src\\metainfo.jl:178\".\n",
      "Use \"sealeveldamagesImpl{#s392}(...) where #s392\" instead.\n",
      "\n",
      "WARNING: deprecated syntax \"inner constructor welfareParameters(...) around C:\\Users\\kevin\\.julia\\v0.6\\Mimi\\src\\metainfo.jl:98\".\n",
      "Use \"welfareParameters{#s394}(...) where #s394\" instead.\n",
      "\n",
      "WARNING: deprecated syntax \"inner constructor welfareVariables(...) around C:\\Users\\kevin\\.julia\\v0.6\\Mimi\\src\\metainfo.jl:119\".\n",
      "Use \"welfareVariables{#s393}(...) where #s393\" instead.\n",
      "\n",
      "WARNING: deprecated syntax \"inner constructor welfareImpl(...) around C:\\Users\\kevin\\.julia\\v0.6\\Mimi\\src\\metainfo.jl:178\".\n",
      "Use \"welfareImpl{#s392}(...) where #s392\" instead.\n"
     ]
    },
    {
     "ename": "LoadError",
     "evalue": "LoadError: \u001b[91mUndefVarError: IndustrialEmission not defined\u001b[39m\nwhile loading C:\\Users\\kevin\\Desktop\\IAM\\ForGitHub\\src\\FullyOptimalResults.jl, in expression starting on line 24",
     "output_type": "error",
     "traceback": [
      "LoadError: \u001b[91mUndefVarError: IndustrialEmission not defined\u001b[39m\nwhile loading C:\\Users\\kevin\\Desktop\\IAM\\ForGitHub\\src\\FullyOptimalResults.jl, in expression starting on line 24",
      "",
      "Stacktrace:",
      " [1] \u001b[1minclude_from_node1\u001b[22m\u001b[22m\u001b[1m(\u001b[22m\u001b[22m::String\u001b[1m)\u001b[22m\u001b[22m at \u001b[1m.\\loading.jl:569\u001b[22m\u001b[22m",
      " [2] \u001b[1minclude\u001b[22m\u001b[22m\u001b[1m(\u001b[22m\u001b[22m::String\u001b[1m)\u001b[22m\u001b[22m at \u001b[1m.\\sysimg.jl:14\u001b[22m\u001b[22m",
      " [3] \u001b[1minclude_string\u001b[22m\u001b[22m\u001b[1m(\u001b[22m\u001b[22m::String, ::String\u001b[1m)\u001b[22m\u001b[22m at \u001b[1m.\\loading.jl:515\u001b[22m\u001b[22m"
     ]
    },
    {
     "name": "stderr",
     "output_type": "stream",
     "text": [
      "WARNING: replacing module _mimi_implementation_co2cycle\n",
      "WARNING: replacing module _mimi_implementation_damages\n",
      "WARNING: replacing module _mimi_implementation_emissions\n",
      "WARNING: replacing module _mimi_implementation_grosseconomy\n",
      "WARNING: replacing module _mimi_implementation_neteconomy\n",
      "WARNING: replacing module _mimi_implementation_radiativeforcing\n",
      "WARNING: replacing module _mimi_implementation_sealevelrise\n",
      "WARNING: replacing module _mimi_implementation_sealeveldamages\n",
      "WARNING: replacing module _mimi_implementation_welfare\n"
     ]
    }
   ],
   "source": [
    "include(\"FullyOptimalResults.jl\")"
   ]
  },
  {
   "cell_type": "code",
   "execution_count": 39,
   "metadata": {},
   "outputs": [
    {
     "ename": "LoadError",
     "evalue": "\u001b[91mNew columns must have the same length as old columns\u001b[39m",
     "output_type": "error",
     "traceback": [
      "\u001b[91mNew columns must have the same length as old columns\u001b[39m",
      "",
      "Stacktrace:",
      " [1] \u001b[1minsert_single_column!\u001b[22m\u001b[22m\u001b[1m(\u001b[22m\u001b[22m::DataFrames.DataFrame, ::DataArrays.DataArray{Int64,1}, ::Symbol\u001b[1m)\u001b[22m\u001b[22m at \u001b[1mC:\\Users\\kevin\\.julia\\v0.6\\DataFrames\\src\\dataframe\\dataframe.jl:305\u001b[22m\u001b[22m",
      " [2] \u001b[1msetindex!\u001b[22m\u001b[22m\u001b[1m(\u001b[22m\u001b[22m::DataFrames.DataFrame, ::Array{Int64,1}, ::Symbol\u001b[1m)\u001b[22m\u001b[22m at \u001b[1mC:\\Users\\kevin\\.julia\\v0.6\\DataFrames\\src\\dataframe\\dataframe.jl:364\u001b[22m\u001b[22m",
      " [3] \u001b[1mmacro expansion\u001b[22m\u001b[22m at \u001b[1m.\\In[39]:4\u001b[22m\u001b[22m [inlined]",
      " [4] \u001b[1manonymous\u001b[22m\u001b[22m at \u001b[1m.\\<missing>:?\u001b[22m\u001b[22m",
      " [5] \u001b[1minclude_string\u001b[22m\u001b[22m\u001b[1m(\u001b[22m\u001b[22m::String, ::String\u001b[1m)\u001b[22m\u001b[22m at \u001b[1m.\\loading.jl:515\u001b[22m\u001b[22m"
     ]
    }
   ],
   "source": [
    "Data = (IndustrialEmissions, GlobalTemp, Population, CarbonTax, NetOutput, PerCapitaC)\n",
    "\n",
    "for d in Data\n",
    "\td[:Year] = t\n",
    "\td = d[d[:Year].!=2595, :]  #terminal year has weird properties in algorithm so the results for this year are nonsense\n",
    "end"
   ]
  },
  {
   "cell_type": "code",
   "execution_count": 38,
   "metadata": {},
   "outputs": [
    {
     "data": {
      "text/html": [
       "<table class=\"data-frame\"><thead><tr><th></th><th>x1</th><th>x2</th><th>x3</th><th>x4</th><th>x5</th><th>x6</th><th>x7</th><th>x8</th><th>x9</th><th>x10</th><th>x11</th><th>x12</th><th>Year</th></tr></thead><tbody><tr><th>1</th><td>0.2174439507255995</td><td>0.5476503261659116</td><td>0.19308283523784517</td><td>0.2587721416368692</td><td>0.2040316665597764</td><td>2.0544833944660366</td><td>0.6695502223824021</td><td>0.6633544137008096</td><td>0.23128118635218523</td><td>0.44282062279813905</td><td>0.21673317180050322</td><td>0.5925700203169062</td><td>2015</td></tr><tr><th>2</th><td>0.0</td><td>0.4166867568403533</td><td>0.12372101659394444</td><td>0.20048345601178488</td><td>0.20590732193621708</td><td>2.1289772974682126</td><td>0.8533761335888359</td><td>0.7642807803806178</td><td>0.3374312819498226</td><td>0.5101267607097872</td><td>0.12715275789878913</td><td>0.7608257699881825</td><td>2025</td></tr><tr><th>3</th><td>0.0</td><td>0.2947015575481259</td><td>0.06878889151125055</td><td>0.13850699331583255</td><td>0.19829363211700002</td><td>2.0091768486923196</td><td>1.0307604141452351</td><td>0.8390102826127137</td><td>0.4788655415923795</td><td>0.559244793316645</td><td>0.04707028917018425</td><td>0.938212688041005</td><td>2035</td></tr><tr><th>4</th><td>0.0</td><td>0.14796076755087958</td><td>0.018307846032879393</td><td>0.06849244206533724</td><td>0.17869209401996936</td><td>1.728584895677588</td><td>1.1766746653327755</td><td>0.8658933344853762</td><td>0.6528270427141616</td><td>0.5714471487367372</td><td>0.0</td><td>1.0984991347187523</td><td>2045</td></tr><tr><th>5</th><td>0.0</td><td>0.0</td><td>0.0</td><td>0.0</td><td>0.14709521019855978</td><td>1.335325351515453</td><td>1.275834846069332</td><td>0.8328059597926248</td><td>0.8504544943378258</td><td>0.5409697300124768</td><td>0.0</td><td>1.217891613318838</td><td>2055</td></tr><tr><th>6</th><td>0.0</td><td>0.0</td><td>0.0</td><td>0.0</td><td>0.1042446159825773</td><td>0.8786266223150644</td><td>1.315240683837182</td><td>0.7346862203937264</td><td>1.0567133559136106</td><td>0.4661696400483772</td><td>0.0</td><td>1.2780963274363926</td><td>2065</td></tr><tr><th>7</th><td>0.0</td><td>0.0</td><td>0.0</td><td>0.0</td><td>0.05311775628801369</td><td>0.4105146889218622</td><td>1.288632514142509</td><td>0.5784328325016522</td><td>1.251262176613632</td><td>0.3503945878887077</td><td>0.0</td><td>1.2690086351953254</td><td>2075</td></tr><tr><th>8</th><td>0.0</td><td>0.0</td><td>0.0</td><td>0.0</td><td>0.0</td><td>0.0</td><td>1.1980826039155357</td><td>0.37261969949031226</td><td>1.4093133867511016</td><td>0.20195800984466433</td><td>0.0</td><td>1.1861543329630495</td><td>2085</td></tr><tr><th>9</th><td>0.0</td><td>0.0</td><td>0.0</td><td>0.0</td><td>0.0</td><td>0.0</td><td>1.0522569244322686</td><td>0.1231522237097408</td><td>1.5042670388958514</td><td>0.03162300591801122</td><td>0.0</td><td>1.03320936062915</td><td>2095</td></tr><tr><th>10</th><td>0.0</td><td>0.0</td><td>0.0</td><td>0.0</td><td>0.0</td><td>0.0</td><td>0.870946109820039</td><td>0.0</td><td>1.4749399624656099</td><td>0.0</td><td>0.0</td><td>0.8260401383634305</td><td>2105</td></tr><tr><th>11</th><td>0.0</td><td>0.0</td><td>0.0</td><td>0.0</td><td>0.0</td><td>0.0</td><td>0.6545473869549416</td><td>0.0</td><td>1.3272106733697944</td><td>0.0</td><td>0.0</td><td>0.5610279528809766</td><td>2115</td></tr><tr><th>12</th><td>0.0</td><td>0.0</td><td>0.0</td><td>0.0</td><td>0.0</td><td>0.0</td><td>0.3851264055741852</td><td>0.0</td><td>1.1130945685523883</td><td>0.0</td><td>0.0</td><td>0.22093744426771658</td><td>2125</td></tr><tr><th>13</th><td>0.0</td><td>0.0</td><td>0.0</td><td>0.0</td><td>0.0</td><td>0.0</td><td>0.06130347693612867</td><td>0.0</td><td>0.8388983854220934</td><td>0.0</td><td>0.0</td><td>0.0</td><td>2135</td></tr><tr><th>14</th><td>0.0</td><td>0.0</td><td>0.0</td><td>0.0</td><td>0.0</td><td>0.0</td><td>0.0</td><td>0.0</td><td>0.5079581276149554</td><td>0.0</td><td>0.0</td><td>0.0</td><td>2145</td></tr><tr><th>15</th><td>0.0</td><td>0.0</td><td>0.0</td><td>0.0</td><td>0.0</td><td>0.0</td><td>0.0</td><td>0.0</td><td>0.1221718933092057</td><td>0.0</td><td>0.0</td><td>0.0</td><td>2155</td></tr><tr><th>16</th><td>0.0</td><td>0.0</td><td>0.0</td><td>0.0</td><td>0.0</td><td>0.0</td><td>0.0</td><td>0.0</td><td>0.0</td><td>0.0</td><td>0.0</td><td>0.0</td><td>2165</td></tr><tr><th>17</th><td>0.0</td><td>0.0</td><td>0.0</td><td>0.0</td><td>0.0</td><td>0.0</td><td>0.0</td><td>0.0</td><td>0.0</td><td>0.0</td><td>0.0</td><td>0.0</td><td>2175</td></tr><tr><th>18</th><td>0.0</td><td>0.0</td><td>0.0</td><td>0.0</td><td>0.0</td><td>0.0</td><td>0.0</td><td>0.0</td><td>0.0</td><td>0.0</td><td>0.0</td><td>0.0</td><td>2185</td></tr><tr><th>19</th><td>0.0</td><td>0.0</td><td>0.0</td><td>0.0</td><td>0.0</td><td>0.0</td><td>0.0</td><td>0.0</td><td>0.0</td><td>0.0</td><td>0.0</td><td>0.0</td><td>2195</td></tr><tr><th>20</th><td>0.0</td><td>0.0</td><td>0.0</td><td>0.0</td><td>0.0</td><td>0.0</td><td>0.0</td><td>0.0</td><td>0.0</td><td>0.0</td><td>0.0</td><td>0.0</td><td>2205</td></tr><tr><th>21</th><td>0.0</td><td>0.0</td><td>0.0</td><td>0.0</td><td>0.0</td><td>0.0</td><td>0.0</td><td>0.0</td><td>0.0</td><td>0.0</td><td>0.0</td><td>0.0</td><td>2215</td></tr><tr><th>22</th><td>0.0</td><td>0.0</td><td>0.0</td><td>0.0</td><td>0.0</td><td>0.0</td><td>0.0</td><td>0.0</td><td>0.0</td><td>0.0</td><td>0.0</td><td>0.0</td><td>2225</td></tr><tr><th>23</th><td>0.0</td><td>0.0</td><td>0.0</td><td>0.0</td><td>0.0</td><td>0.0</td><td>0.0</td><td>0.0</td><td>0.0</td><td>0.0</td><td>0.0</td><td>0.0</td><td>2235</td></tr><tr><th>24</th><td>0.0</td><td>0.0</td><td>0.0</td><td>0.0</td><td>0.0</td><td>0.0</td><td>0.0</td><td>0.0</td><td>0.0</td><td>0.0</td><td>0.0</td><td>0.0</td><td>2245</td></tr><tr><th>25</th><td>0.0</td><td>0.0</td><td>0.0</td><td>0.0</td><td>0.0</td><td>0.0</td><td>0.0</td><td>0.0</td><td>0.0</td><td>0.0</td><td>0.0</td><td>0.0</td><td>2255</td></tr><tr><th>26</th><td>0.0</td><td>0.0</td><td>0.0</td><td>0.0</td><td>0.0</td><td>0.0</td><td>0.0</td><td>0.0</td><td>0.0</td><td>0.0</td><td>0.0</td><td>0.0</td><td>2265</td></tr><tr><th>27</th><td>0.0</td><td>0.0</td><td>0.0</td><td>0.0</td><td>0.0</td><td>0.0</td><td>0.0</td><td>0.0</td><td>0.0</td><td>0.0</td><td>0.0</td><td>0.0</td><td>2275</td></tr><tr><th>28</th><td>0.0</td><td>0.0</td><td>0.0</td><td>0.0</td><td>0.0</td><td>0.0</td><td>0.0</td><td>0.0</td><td>0.0</td><td>0.0</td><td>0.0</td><td>0.0</td><td>2285</td></tr><tr><th>29</th><td>0.0</td><td>0.0</td><td>0.0</td><td>0.0</td><td>0.0</td><td>0.0</td><td>0.0</td><td>0.0</td><td>0.0</td><td>0.0</td><td>0.0</td><td>0.0</td><td>2295</td></tr><tr><th>30</th><td>0.0</td><td>0.0</td><td>0.0</td><td>0.0</td><td>0.0</td><td>0.0</td><td>0.0</td><td>0.0</td><td>0.0</td><td>0.0</td><td>0.0</td><td>0.0</td><td>2305</td></tr><tr><th>&vellip;</th><td>&vellip;</td><td>&vellip;</td><td>&vellip;</td><td>&vellip;</td><td>&vellip;</td><td>&vellip;</td><td>&vellip;</td><td>&vellip;</td><td>&vellip;</td><td>&vellip;</td><td>&vellip;</td><td>&vellip;</td><td>&vellip;</td></tr></tbody></table>"
      ],
      "text/plain": [
       "59×13 DataFrames.DataFrame\n",
       "│ Row │ x1       │ x2       │ x3        │ x4        │ x5        │ x6       │\n",
       "├─────┼──────────┼──────────┼───────────┼───────────┼───────────┼──────────┤\n",
       "│ 1   │ 0.217444 │ 0.54765  │ 0.193083  │ 0.258772  │ 0.204032  │ 2.05448  │\n",
       "│ 2   │ 0.0      │ 0.416687 │ 0.123721  │ 0.200483  │ 0.205907  │ 2.12898  │\n",
       "│ 3   │ 0.0      │ 0.294702 │ 0.0687889 │ 0.138507  │ 0.198294  │ 2.00918  │\n",
       "│ 4   │ 0.0      │ 0.147961 │ 0.0183078 │ 0.0684924 │ 0.178692  │ 1.72858  │\n",
       "│ 5   │ 0.0      │ 0.0      │ 0.0       │ 0.0       │ 0.147095  │ 1.33533  │\n",
       "│ 6   │ 0.0      │ 0.0      │ 0.0       │ 0.0       │ 0.104245  │ 0.878627 │\n",
       "│ 7   │ 0.0      │ 0.0      │ 0.0       │ 0.0       │ 0.0531178 │ 0.410515 │\n",
       "│ 8   │ 0.0      │ 0.0      │ 0.0       │ 0.0       │ 0.0       │ 0.0      │\n",
       "│ 9   │ 0.0      │ 0.0      │ 0.0       │ 0.0       │ 0.0       │ 0.0      │\n",
       "│ 10  │ 0.0      │ 0.0      │ 0.0       │ 0.0       │ 0.0       │ 0.0      │\n",
       "│ 11  │ 0.0      │ 0.0      │ 0.0       │ 0.0       │ 0.0       │ 0.0      │\n",
       "⋮\n",
       "│ 48  │ 0.0      │ 0.0      │ 0.0       │ 0.0       │ 0.0       │ 0.0      │\n",
       "│ 49  │ 0.0      │ 0.0      │ 0.0       │ 0.0       │ 0.0       │ 0.0      │\n",
       "│ 50  │ 0.0      │ 0.0      │ 0.0       │ 0.0       │ 0.0       │ 0.0      │\n",
       "│ 51  │ 0.0      │ 0.0      │ 0.0       │ 0.0       │ 0.0       │ 0.0      │\n",
       "│ 52  │ 0.0      │ 0.0      │ 0.0       │ 0.0       │ 0.0       │ 0.0      │\n",
       "│ 53  │ 0.0      │ 0.0      │ 0.0       │ 0.0       │ 0.0       │ 0.0      │\n",
       "│ 54  │ 0.0      │ 0.0      │ 0.0       │ 0.0       │ 0.0       │ 0.0      │\n",
       "│ 55  │ 0.0      │ 0.0      │ 0.0       │ 0.0       │ 0.0       │ 0.0      │\n",
       "│ 56  │ 0.0      │ 0.0      │ 0.0       │ 0.0       │ 0.0       │ 0.0      │\n",
       "│ 57  │ 0.0      │ 0.0      │ 0.0       │ 0.0       │ 0.0       │ 0.0      │\n",
       "│ 58  │ 0.0      │ 0.0      │ 0.0       │ 0.0       │ 0.0       │ 0.0      │\n",
       "│ 59  │ 0.46351  │ 0.354005 │ 0.0658155 │ 0.197574  │ 0.395432  │ 0.549111 │\n",
       "\n",
       "│ Row │ x7       │ x8       │ x9       │ x10      │ x11       │ x12      │\n",
       "├─────┼──────────┼──────────┼──────────┼──────────┼───────────┼──────────┤\n",
       "│ 1   │ 0.66955  │ 0.663354 │ 0.231281 │ 0.442821 │ 0.216733  │ 0.59257  │\n",
       "│ 2   │ 0.853376 │ 0.764281 │ 0.337431 │ 0.510127 │ 0.127153  │ 0.760826 │\n",
       "│ 3   │ 1.03076  │ 0.83901  │ 0.478866 │ 0.559245 │ 0.0470703 │ 0.938213 │\n",
       "│ 4   │ 1.17667  │ 0.865893 │ 0.652827 │ 0.571447 │ 0.0       │ 1.0985   │\n",
       "│ 5   │ 1.27583  │ 0.832806 │ 0.850454 │ 0.54097  │ 0.0       │ 1.21789  │\n",
       "│ 6   │ 1.31524  │ 0.734686 │ 1.05671  │ 0.46617  │ 0.0       │ 1.2781   │\n",
       "│ 7   │ 1.28863  │ 0.578433 │ 1.25126  │ 0.350395 │ 0.0       │ 1.26901  │\n",
       "│ 8   │ 1.19808  │ 0.37262  │ 1.40931  │ 0.201958 │ 0.0       │ 1.18615  │\n",
       "│ 9   │ 1.05226  │ 0.123152 │ 1.50427  │ 0.031623 │ 0.0       │ 1.03321  │\n",
       "│ 10  │ 0.870946 │ 0.0      │ 1.47494  │ 0.0      │ 0.0       │ 0.82604  │\n",
       "│ 11  │ 0.654547 │ 0.0      │ 1.32721  │ 0.0      │ 0.0       │ 0.561028 │\n",
       "⋮\n",
       "│ 48  │ 0.0      │ 0.0      │ 0.0      │ 0.0      │ 0.0       │ 0.0      │\n",
       "│ 49  │ 0.0      │ 0.0      │ 0.0      │ 0.0      │ 0.0       │ 0.0      │\n",
       "│ 50  │ 0.0      │ 0.0      │ 0.0      │ 0.0      │ 0.0       │ 0.0      │\n",
       "│ 51  │ 0.0      │ 0.0      │ 0.0      │ 0.0      │ 0.0       │ 0.0      │\n",
       "│ 52  │ 0.0      │ 0.0      │ 0.0      │ 0.0      │ 0.0       │ 0.0      │\n",
       "│ 53  │ 0.0      │ 0.0      │ 0.0      │ 0.0      │ 0.0       │ 0.0      │\n",
       "│ 54  │ 0.0      │ 0.0      │ 0.0      │ 0.0      │ 0.0       │ 0.0      │\n",
       "│ 55  │ 0.0      │ 0.0      │ 0.0      │ 0.0      │ 0.0       │ 0.0      │\n",
       "│ 56  │ 0.0      │ 0.0      │ 0.0      │ 0.0      │ 0.0       │ 0.0      │\n",
       "│ 57  │ 0.0      │ 0.0      │ 0.0      │ 0.0      │ 0.0       │ 0.0      │\n",
       "│ 58  │ 0.0      │ 0.0      │ 0.0      │ 0.0      │ 0.0       │ 0.0      │\n",
       "│ 59  │ 0.92221  │ 0.699521 │ 1.11008  │ 2.4714   │ 0.140168  │ 0.907664 │\n",
       "\n",
       "│ Row │ Year │\n",
       "├─────┼──────┤\n",
       "│ 1   │ 2015 │\n",
       "│ 2   │ 2025 │\n",
       "│ 3   │ 2035 │\n",
       "│ 4   │ 2045 │\n",
       "│ 5   │ 2055 │\n",
       "│ 6   │ 2065 │\n",
       "│ 7   │ 2075 │\n",
       "│ 8   │ 2085 │\n",
       "│ 9   │ 2095 │\n",
       "│ 10  │ 2105 │\n",
       "│ 11  │ 2115 │\n",
       "⋮\n",
       "│ 48  │ 2485 │\n",
       "│ 49  │ 2495 │\n",
       "│ 50  │ 2505 │\n",
       "│ 51  │ 2515 │\n",
       "│ 52  │ 2525 │\n",
       "│ 53  │ 2535 │\n",
       "│ 54  │ 2545 │\n",
       "│ 55  │ 2555 │\n",
       "│ 56  │ 2565 │\n",
       "│ 57  │ 2575 │\n",
       "│ 58  │ 2585 │\n",
       "│ 59  │ 2595 │"
      ]
     },
     "execution_count": 38,
     "metadata": {},
     "output_type": "execute_result"
    }
   ],
   "source": []
  },
  {
   "cell_type": "code",
   "execution_count": 30,
   "metadata": {},
   "outputs": [
    {
     "data": {
      "text/html": [
       "<table class=\"data-frame\"><thead><tr><th></th><th>Yay</th><th>x2</th><th>x3</th><th>x4</th></tr></thead><tbody><tr><th>1</th><td>NA</td><td>NA</td><td>NA</td><td>NA</td></tr><tr><th>2</th><td>NA</td><td>NA</td><td>NA</td><td>NA</td></tr><tr><th>3</th><td>NA</td><td>NA</td><td>NA</td><td>NA</td></tr></tbody></table>"
      ],
      "text/plain": [
       "3×4 DataFrames.DataFrame\n",
       "│ Row │ Yay │ x2 │ x3 │ x4 │\n",
       "├─────┼─────┼────┼────┼────┤\n",
       "│ 1   │ NA  │ NA │ NA │ NA │\n",
       "│ 2   │ NA  │ NA │ NA │ NA │\n",
       "│ 3   │ NA  │ NA │ NA │ NA │"
      ]
     },
     "execution_count": 30,
     "metadata": {},
     "output_type": "execute_result"
    }
   ],
   "source": []
  },
  {
   "cell_type": "code",
   "execution_count": null,
   "metadata": {
    "collapsed": true
   },
   "outputs": [],
   "source": []
  }
 ],
 "metadata": {
  "kernelspec": {
   "display_name": "Julia 0.6.0",
   "language": "julia",
   "name": "julia-0.6"
  },
  "language_info": {
   "file_extension": ".jl",
   "mimetype": "application/julia",
   "name": "julia",
   "version": "0.6.0"
  }
 },
 "nbformat": 4,
 "nbformat_minor": 2
}
